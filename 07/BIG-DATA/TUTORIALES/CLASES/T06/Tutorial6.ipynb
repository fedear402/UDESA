{
 "cells": [
  {
   "cell_type": "markdown",
   "metadata": {
    "id": "me1YIgWFU5al"
   },
   "source": [
    "# Tutorial de Big Data\n",
    "## Tutorial 6\n",
    "\n",
    "**Objetivo:** Correr regresiones lineales. Estimar polinomios y encontrar el ECM.\n",
    "\n",
    "Veremos:\n",
    "- Introducción a Numpy y Scikit-learn\n",
    "- Regresión lineal y polinómica\n",
    "- Estadísticas (símil stata o R)\n",
    "- Encontrar el ECM"
   ]
  },
  {
   "cell_type": "markdown",
   "metadata": {
    "id": "LhXZaErKU5av"
   },
   "source": [
    "##      NumPy y scikit-learn                   \n",
    "**El paquete NumPy** es fundamental en Python. Está escrito en lenguajes de bajo nivel, lo que permite realizar operaciones matemáticas de manera muy eficiente. Para más información, ver la [guía oficial de uso de NumPy](https://docs.scipy.org/doc/numpy/user/index.html).\n",
    "\n",
    "**El paquete scikit-learn** es una biblioteca de Python usada para machine learning, construida encima de NumPy y otros paquetes. Permite procesar datos, reducir la dimensionalidad de la base, implementar regresiones, clasificaciones, clustering y más. Pueden ver la [web de scikit-learn](https://scikit-learn.org/stable/)\n"
   ]
  },
  {
   "cell_type": "code",
   "execution_count": 1,
   "metadata": {},
   "outputs": [],
   "source": [
    "#!pip install patsy\n",
    "#!pip install six\n",
    "#!pip install statsmodels"
   ]
  },
  {
   "cell_type": "code",
   "execution_count": 1,
   "metadata": {
    "id": "VPdHNiwaU5av"
   },
   "outputs": [],
   "source": [
    "# Importamos paquetes\n",
    "import numpy as np\n",
    "from sklearn.linear_model import LinearRegression\n",
    "from sklearn.preprocessing import PolynomialFeatures\n",
    "from sklearn.metrics import r2_score, mean_squared_error, mean_absolute_error\n",
    "import statsmodels.api as sm\n",
    "import matplotlib.pyplot as plt"
   ]
  },
  {
   "cell_type": "markdown",
   "metadata": {
    "id": "CDoB3XPnU5aw"
   },
   "source": [
    "### Numpy\n",
    "\n",
    "A continuación crearemos dos vectores con los que trabajaremos en nuestra primera regresión lineal."
   ]
  },
  {
   "cell_type": "code",
   "execution_count": 2,
   "metadata": {
    "colab": {
     "base_uri": "https://localhost:8080/"
    },
    "executionInfo": {
     "elapsed": 8,
     "status": "ok",
     "timestamp": 1712541649918,
     "user": {
      "displayName": "Victoria Oubina de Castro",
      "userId": "00295192582253170882"
     },
     "user_tz": 180
    },
    "id": "sHVxgeb5U5aw",
    "outputId": "00eefd61-af7b-44c7-df09-0f526860c0c9"
   },
   "outputs": [
    {
     "name": "stdout",
     "output_type": "stream",
     "text": [
      "[ 5 15 25 35 45 55]\n",
      "[ 5 20 14 32 22 38]\n"
     ]
    }
   ],
   "source": [
    "x = np.array([5, 15, 25, 35, 45, 55])\n",
    "y = np.array([5, 20, 14, 32, 22, 38])\n",
    "\n",
    "print(x)\n",
    "print(y)\n",
    "# Ambos son vectores fila"
   ]
  },
  {
   "cell_type": "code",
   "execution_count": 3,
   "metadata": {
    "colab": {
     "base_uri": "https://localhost:8080/"
    },
    "executionInfo": {
     "elapsed": 5,
     "status": "ok",
     "timestamp": 1712541649918,
     "user": {
      "displayName": "Victoria Oubina de Castro",
      "userId": "00295192582253170882"
     },
     "user_tz": 180
    },
    "id": "XVlnG82eU5aw",
    "outputId": "57b041bf-bb72-4401-9c98-be2f579d8a11"
   },
   "outputs": [
    {
     "name": "stdout",
     "output_type": "stream",
     "text": [
      "[[ 5]\n",
      " [15]\n",
      " [25]\n",
      " [35]\n",
      " [45]\n",
      " [55]]\n",
      "[ 5 20 14 32 22 38]\n"
     ]
    }
   ],
   "source": [
    "# Reshape para transformar x en un vector columna\n",
    "x = x.reshape((-1, 1))   # El -1 indica el largo del array\n",
    "# Es equivalente a: x = x.reshape((6, 1))\n",
    "\n",
    "print(x)\n",
    "print(y)"
   ]
  },
  {
   "cell_type": "markdown",
   "metadata": {
    "id": "tltC2LKSU5aw"
   },
   "source": [
    "### REGRESIÓN LINEAL CON SCIKIT-LEARN\n",
    "Ahora utilizaremos la función [LinearRegression()](https://scikit-learn.org/stable/modules/generated/sklearn.linear_model.LinearRegression.html) del paquete scikit-learn.\n",
    "    \n",
    "Se pueden proveer muchos parámetros opcionales para esta función:\n",
    "\n",
    "- **fit_intercept**: Booleano que decide si calcular el intercepto (True) o considerarlo igual a cero (False). Por default es True.\n",
    "- **normalize**: Booleano que decide si normalizar las variables input (True) o no (False). Es False por default.\n",
    "- **copy_X**: Booleano que decide si copiar (True) o sobreescribir las variables input (False). Es True por default."
   ]
  },
  {
   "cell_type": "code",
   "execution_count": 5,
   "metadata": {
    "id": "6bjQFS8IU5aw"
   },
   "outputs": [],
   "source": [
    "# Primero, estimar el modelo. Lo hacemos con fit():\n",
    "model = LinearRegression().fit(x, y)"
   ]
  },
  {
   "cell_type": "code",
   "execution_count": 6,
   "metadata": {
    "colab": {
     "base_uri": "https://localhost:8080/"
    },
    "executionInfo": {
     "elapsed": 10,
     "status": "ok",
     "timestamp": 1712541650990,
     "user": {
      "displayName": "Victoria Oubina de Castro",
      "userId": "00295192582253170882"
     },
     "user_tz": 180
    },
    "id": "S2uo_mwHU5ax",
    "outputId": "67b7f4ae-5857-4552-8a2e-9d0a0ef19500"
   },
   "outputs": [
    {
     "name": "stdout",
     "output_type": "stream",
     "text": [
      "Coeficiente de determinación: 0.715875613747954\n",
      "\n",
      "Intercepto: 5.633333333333333\n",
      "\n",
      "Pendiente: [0.54]\n"
     ]
    }
   ],
   "source": [
    "# Veamos ahora los resultados\n",
    "\n",
    "# Calculamos el R2\n",
    "r2 = model.score(x, y)\n",
    "print('Coeficiente de determinación:', r2)\n",
    "\n",
    "# El intercepto\n",
    "intercepto = model.intercept_\n",
    "print('\\nIntercepto:', intercepto)\n",
    "\n",
    "# La pendiente\n",
    "pendiente = model.coef_\n",
    "print('\\nPendiente:', pendiente)\n"
   ]
  },
  {
   "cell_type": "code",
   "execution_count": 7,
   "metadata": {
    "colab": {
     "base_uri": "https://localhost:8080/",
     "height": 447
    },
    "executionInfo": {
     "elapsed": 851,
     "status": "ok",
     "timestamp": 1712541654428,
     "user": {
      "displayName": "Victoria Oubina de Castro",
      "userId": "00295192582253170882"
     },
     "user_tz": 180
    },
    "id": "juWyTKCWU5ax",
    "outputId": "ca456d6a-ae04-434f-b91b-59513d469888"
   },
   "outputs": [
    {
     "data": {
      "text/plain": [
       "[<matplotlib.lines.Line2D at 0x31b60cbf0>]"
      ]
     },
     "execution_count": 7,
     "metadata": {},
     "output_type": "execute_result"
    },
    {
     "data": {
      "image/png": "[encoded data removed]",
      "text/plain": [
       "<Figure size 640x480 with 1 Axes>"
      ]
     },
     "metadata": {},
     "output_type": "display_data"
    }
   ],
   "source": [
    "# Hacemos un scatter plot\n",
    "plt.plot(x, y, 'o')\n",
    "plt.plot(x, pendiente*x + intercepto)\n"
   ]
  },
  {
   "cell_type": "code",
   "execution_count": 10,
   "metadata": {
    "colab": {
     "base_uri": "https://localhost:8080/"
    },
    "executionInfo": {
     "elapsed": 542,
     "status": "ok",
     "timestamp": 1712541657404,
     "user": {
      "displayName": "Victoria Oubina de Castro",
      "userId": "00295192582253170882"
     },
     "user_tz": 180
    },
    "id": "UPErt-qrU5ax",
    "outputId": "79ef6c9a-f072-4728-a3c3-39b30bb8063b"
   },
   "outputs": [
    {
     "name": "stdout",
     "output_type": "stream",
     "text": [
      "Respuesta predicha:\n",
      " [ 8.33333333 13.73333333 19.13333333 24.53333333 29.93333333 35.33333333]\n",
      "\n",
      "El vector de y: [ 5 20 14 32 22 38]\n",
      "\n",
      "Resultado anterior: 0.7158756137479542 \n",
      "Resultado nuevo: 0.7158756137479542\n"
     ]
    }
   ],
   "source": [
    "# Supongamos que ahora queremos predecir con este modelo.\n",
    "# Aplicamos .predict(), metemos los valores del regresor en el modelo estimado y\n",
    "# obtenemos la correspondiente respuesta predicha.\n",
    "\n",
    "y_pred = model.predict(x)\n",
    "print('Respuesta predicha:\\n', y_pred)\n",
    "\n",
    "# Recordemos cómo era nuestro vector y\n",
    "print('\\nEl vector de y:', y)\n",
    "\n",
    "# Con la y predicha podemos calcular el R^2 de esta otra forma\n",
    "r2_new = r2_score(y, y_pred)\n",
    "print(\"\\nResultado anterior:\", r2, \"\\nResultado nuevo:\", r2_new)"
   ]
  },
  {
   "cell_type": "code",
   "execution_count": 11,
   "metadata": {
    "colab": {
     "base_uri": "https://localhost:8080/"
    },
    "executionInfo": {
     "elapsed": 3,
     "status": "ok",
     "timestamp": 1712541659113,
     "user": {
      "displayName": "Victoria Oubina de Castro",
      "userId": "00295192582253170882"
     },
     "user_tz": 180
    },
    "id": "6KN8vgbGU5ax",
    "outputId": "70b8c1bf-b389-4eae-9a2f-c975464e30c1"
   },
   "outputs": [
    {
     "name": "stdout",
     "output_type": "stream",
     "text": [
      "[[10]\n",
      " [12]\n",
      " [14]\n",
      " [16]\n",
      " [18]]\n",
      "\n",
      "Nueva respuesta predicha:\n",
      " [11.03333333 12.11333333 13.19333333 14.27333333 15.35333333]\n"
     ]
    }
   ],
   "source": [
    "# Si quiero probar valores nuevos de x (no los que usé para estimar el modelo):\n",
    "x_new = np.arange(start=10, stop=20, step=2).reshape((-1, 1))   # Generamos valores entre [10, 20), con saltos de 2 en 2\n",
    "print(x_new)\n",
    "\n",
    "y_pred_new = model.predict(x_new)\n",
    "print('\\nNueva respuesta predicha:\\n', y_pred_new)\n"
   ]
  },
  {
   "cell_type": "code",
   "execution_count": 13,
   "metadata": {
    "colab": {
     "base_uri": "https://localhost:8080/"
    },
    "executionInfo": {
     "elapsed": 6,
     "status": "ok",
     "timestamp": 1712541660206,
     "user": {
      "displayName": "Victoria Oubina de Castro",
      "userId": "00295192582253170882"
     },
     "user_tz": 180
    },
    "id": "YqydnsUDU5ax",
    "outputId": "a7296ed8-5882-4645-abc7-29716f891cd3"
   },
   "outputs": [
    {
     "name": "stdout",
     "output_type": "stream",
     "text": [
      "[[ 0  1]\n",
      " [ 5  1]\n",
      " [15  2]\n",
      " [25  5]\n",
      " [35 11]\n",
      " [45 15]\n",
      " [55 34]\n",
      " [60 35]]\n",
      "[ 4  5 20 14 32 22 38 43]\n"
     ]
    }
   ],
   "source": [
    "# Para regresión lineal múltiple es lo mismo:\n",
    "# Armamos un vector para la variable dependiente y una matriz de regresores:\n",
    "x = np.array([[0, 1], [5, 1], [15, 2], [25, 5], [35, 11], [45, 15], [55, 34], [60, 35]])\n",
    "\n",
    "y =  np.array([4, 5, 20, 14, 32, 22, 38, 43])\n",
    "\n",
    "print(x)\n",
    "print(y)\n"
   ]
  },
  {
   "cell_type": "code",
   "execution_count": 14,
   "metadata": {
    "colab": {
     "base_uri": "https://localhost:8080/"
    },
    "executionInfo": {
     "elapsed": 304,
     "status": "ok",
     "timestamp": 1712541662347,
     "user": {
      "displayName": "Victoria Oubina de Castro",
      "userId": "00295192582253170882"
     },
     "user_tz": 180
    },
    "id": "xNXJ4AIjU5ay",
    "outputId": "66c7dd5e-a894-4606-e83e-434d0d84ef27"
   },
   "outputs": [
    {
     "name": "stdout",
     "output_type": "stream",
     "text": [
      "Coeficiente de determinación: 0.8615939258756775\n",
      "\n",
      "Intercepto: 5.52257927519819\n",
      "\n",
      "Coeficientes: [0.44706965 0.25502548]\n"
     ]
    }
   ],
   "source": [
    "# Estimamos el modelo\n",
    "model = LinearRegression().fit(x, y)\n",
    "r2 = model.score(x, y)\n",
    "\n",
    "# Miramos resultados\n",
    "print('Coeficiente de determinación:', r2)\n",
    "print('\\nIntercepto:', model.intercept_)\n",
    "print('\\nCoeficientes:', model.coef_)"
   ]
  },
  {
   "cell_type": "code",
   "execution_count": 15,
   "metadata": {
    "colab": {
     "base_uri": "https://localhost:8080/"
    },
    "executionInfo": {
     "elapsed": 313,
     "status": "ok",
     "timestamp": 1712541664476,
     "user": {
      "displayName": "Victoria Oubina de Castro",
      "userId": "00295192582253170882"
     },
     "user_tz": 180
    },
    "id": "Cq33dWZbU5ay",
    "outputId": "0e308105-7332-428c-ae2b-19a99e482dce"
   },
   "outputs": [
    {
     "name": "stdout",
     "output_type": "stream",
     "text": [
      "Respuesta predicha:\n",
      "[ 5.77760476  8.012953   12.73867497 17.9744479  23.97529728 29.4660957\n",
      " 38.78227633 41.27265006]\n"
     ]
    }
   ],
   "source": [
    "# Vemos la respuesta predicha para los valores originales de los regresores\n",
    "y_pred = model.predict(x)\n",
    "print('Respuesta predicha:', y_pred, sep='\\n')"
   ]
  },
  {
   "cell_type": "code",
   "execution_count": 16,
   "metadata": {
    "colab": {
     "base_uri": "https://localhost:8080/"
    },
    "executionInfo": {
     "elapsed": 290,
     "status": "ok",
     "timestamp": 1712541666736,
     "user": {
      "displayName": "Victoria Oubina de Castro",
      "userId": "00295192582253170882"
     },
     "user_tz": 180
    },
    "id": "LX15tvVIU5ay",
    "outputId": "29670182-ac5d-4028-91b1-e74c37110235"
   },
   "outputs": [
    {
     "name": "stdout",
     "output_type": "stream",
     "text": [
      "[[ 1  4]\n",
      " [ 7 10]\n",
      " [13 16]\n",
      " [19 22]\n",
      " [25 28]]\n",
      "Nueva respuesta predicha:\n",
      "[ 6.98975085 11.20232163 15.41489241 19.62746319 23.84003398]\n"
     ]
    }
   ],
   "source": [
    "# Vemos la predicción para nuevos valores de X\n",
    "x_new = np.arange(start=1, stop=31, step=3).reshape((-1, 2))   # Matriz con 2 columnas y tantas filas como tenga el array\n",
    "print(x_new)\n",
    "y_new = model.predict(x_new)\n",
    "print('Nueva respuesta predicha:', y_new, sep='\\n')"
   ]
  },
  {
   "cell_type": "markdown",
   "metadata": {
    "id": "e-Kj-aRuU5ay"
   },
   "source": [
    "### REGRESIÓN POLINÓMICA\n",
    "Si queremos correr una regresión de y contra x y x^2 necesitamos generar los datos de la nueva variable independiente.\n",
    "\n",
    "[PolynomialFeatures](https://scikit-learn.org/stable/modules/generated/sklearn.preprocessing.PolynomialFeatures.html) (de scikitlearn) genera una nueva matriz que consta de todas las combinaciones polinomiales de las x con un grado menor o igual al grado especificado. Por ejemplo, si una muestra de entrada es bidimensional y de la forma [a, b], las características polinomiales de grado 2 son [1, a, b, a^2, ab, b^2].\n",
    "\n",
    "Se pueden cambiar varios parámetros de PolynomialFeatures:\n",
    "\n",
    "- **degree** es un entero (2 por default) que representa el grado de la función de regresión polinómica.\n",
    "\n",
    "- **include_bias** es un Booleano (True por default) que decide si incluir la columna de 1 que corresponde al intercepto (True) o no (False).\n"
   ]
  },
  {
   "cell_type": "code",
   "execution_count": 17,
   "metadata": {
    "colab": {
     "base_uri": "https://localhost:8080/"
    },
    "executionInfo": {
     "elapsed": 319,
     "status": "ok",
     "timestamp": 1712541670355,
     "user": {
      "displayName": "Victoria Oubina de Castro",
      "userId": "00295192582253170882"
     },
     "user_tz": 180
    },
    "id": "KZSWXiBjU5az",
    "outputId": "60a76656-ad4e-489b-c246-2fcc5db48afa"
   },
   "outputs": [
    {
     "name": "stdout",
     "output_type": "stream",
     "text": [
      "[[ 5]\n",
      " [15]\n",
      " [25]\n",
      " [35]\n",
      " [45]\n",
      " [55]]\n",
      "[15 11  2  8 25 32]\n"
     ]
    }
   ],
   "source": [
    "x = np.array([5, 15, 25, 35, 45, 55]).reshape((-1, 1)) \n",
    "y = np.array([15, 11, 2, 8, 25, 32])   # Vector fila\n",
    "print(x)\n",
    "print(y)"
   ]
  },
  {
   "cell_type": "code",
   "execution_count": 24,
   "metadata": {
    "colab": {
     "base_uri": "https://localhost:8080/"
    },
    "executionInfo": {
     "elapsed": 295,
     "status": "ok",
     "timestamp": 1712541672411,
     "user": {
      "displayName": "Victoria Oubina de Castro",
      "userId": "00295192582253170882"
     },
     "user_tz": 180
    },
    "id": "-H5n6j-CU5az",
    "outputId": "22b2d8f0-021e-4baf-bda6-d28cb786c86a"
   },
   "outputs": [
    {
     "name": "stdout",
     "output_type": "stream",
     "text": [
      "[[   5.   25.]\n",
      " [  15.  225.]\n",
      " [  25.  625.]\n",
      " [  35. 1225.]\n",
      " [  45. 2025.]\n",
      " [  55. 3025.]]\n"
     ]
    }
   ],
   "source": [
    "model_pol = PolynomialFeatures(include_bias=False)\n",
    "model_pol.fit(x)\n",
    "x_ = model_pol.transform(x)   # Aplicamos transformación a los datos. Genera una matriz de 6x2 (con x y x^2)\n",
    "# equivalente a: x_ = model_pol.fit_transform(x)\n",
    "print(x_)"
   ]
  },
  {
   "cell_type": "code",
   "execution_count": 25,
   "metadata": {
    "id": "pbTckKt6U5az"
   },
   "outputs": [],
   "source": [
    "# Ahora usamos x_ para correr la regresión\n",
    "model_pol = LinearRegression().fit(x_, y)\n"
   ]
  },
  {
   "cell_type": "code",
   "execution_count": 26,
   "metadata": {
    "colab": {
     "base_uri": "https://localhost:8080/"
    },
    "executionInfo": {
     "elapsed": 2,
     "status": "ok",
     "timestamp": 1712541675197,
     "user": {
      "displayName": "Victoria Oubina de Castro",
      "userId": "00295192582253170882"
     },
     "user_tz": 180
    },
    "id": "7Li8arbEbu5N",
    "outputId": "59dfaf24-6da0-4ff1-8473-f49e0c94fa34"
   },
   "outputs": [
    {
     "name": "stdout",
     "output_type": "stream",
     "text": [
      "Coeficiente de determinación: 0.8908516262498563\n",
      "\n",
      "Intercepto: 21.37232142857144\n",
      "\n",
      "Coeficientes: [-1.32357143  0.02839286]\n"
     ]
    }
   ],
   "source": [
    "print('Coeficiente de determinación:', model_pol.score(x_, y))\n",
    "print('\\nIntercepto:', model_pol.intercept_)\n",
    "print('\\nCoeficientes:', model_pol.coef_)"
   ]
  },
  {
   "cell_type": "markdown",
   "metadata": {
    "id": "fegD4QXNU5az"
   },
   "source": [
    "### Imitando a Stata con statsmodels"
   ]
  },
  {
   "cell_type": "markdown",
   "metadata": {
    "id": "48z3rKgdU5az"
   },
   "source": [
    "[statsmodels](https://www.statsmodels.org/stable/index.html) proporciona clases y funciones para la estimación de modelos estadísticos, para realizar pruebas estadísticas y para explorar datos estadísticos."
   ]
  },
  {
   "cell_type": "code",
   "execution_count": 27,
   "metadata": {},
   "outputs": [],
   "source": [
    "import statsmodels.api as sm"
   ]
  },
  {
   "cell_type": "code",
   "execution_count": 28,
   "metadata": {
    "colab": {
     "base_uri": "https://localhost:8080/"
    },
    "executionInfo": {
     "elapsed": 312,
     "status": "ok",
     "timestamp": 1712541678306,
     "user": {
      "displayName": "Victoria Oubina de Castro",
      "userId": "00295192582253170882"
     },
     "user_tz": 180
    },
    "id": "MPR7EMCKU5az",
    "outputId": "6c1316d4-4361-4e16-f93c-c4b14d203a3f"
   },
   "outputs": [
    {
     "name": "stdout",
     "output_type": "stream",
     "text": [
      "[[ 1.  0.  1.]\n",
      " [ 1.  5.  1.]\n",
      " [ 1. 15.  2.]\n",
      " [ 1. 25.  5.]\n",
      " [ 1. 35. 11.]\n",
      " [ 1. 45. 15.]\n",
      " [ 1. 55. 34.]\n",
      " [ 1. 60. 35.]]\n",
      "[ 4  5 20 14 32 22 38 43]\n"
     ]
    }
   ],
   "source": [
    "x = [[0, 1], [5, 1], [15, 2], [25, 5], [35, 11], [45, 15], [55, 34], [60, 35]]\n",
    "y = [4, 5, 20, 14, 32, 22, 38, 43]\n",
    "x, y = np.array(x), np.array(y)\n",
    "\n",
    "x = sm.add_constant(x)\n",
    "print(x)\n",
    "print(y)"
   ]
  },
  {
   "cell_type": "code",
   "execution_count": 29,
   "metadata": {
    "colab": {
     "base_uri": "https://localhost:8080/"
    },
    "executionInfo": {
     "elapsed": 305,
     "status": "ok",
     "timestamp": 1712541680028,
     "user": {
      "displayName": "Victoria Oubina de Castro",
      "userId": "00295192582253170882"
     },
     "user_tz": 180
    },
    "id": "BKmWhGgqU5az",
    "outputId": "1cdec443-6aa9-4b00-afc6-6e6fcc13772b"
   },
   "outputs": [
    {
     "name": "stdout",
     "output_type": "stream",
     "text": [
      "                            OLS Regression Results                            \n",
      "==============================================================================\n",
      "Dep. Variable:                      y   R-squared:                       0.862\n",
      "Model:                            OLS   Adj. R-squared:                  0.806\n",
      "Method:                 Least Squares   F-statistic:                     15.56\n",
      "Date:                Wed, 10 Apr 2024   Prob (F-statistic):            0.00713\n",
      "Time:                        11:23:34   Log-Likelihood:                -24.316\n",
      "No. Observations:                   8   AIC:                             54.63\n",
      "Df Residuals:                       5   BIC:                             54.87\n",
      "Df Model:                           2                                         \n",
      "Covariance Type:            nonrobust                                         \n",
      "==============================================================================\n",
      "                 coef    std err          t      P>|t|      [0.025      0.975]\n",
      "------------------------------------------------------------------------------\n",
      "const          5.5226      4.431      1.246      0.268      -5.867      16.912\n",
      "x1             0.4471      0.285      1.567      0.178      -0.286       1.180\n",
      "x2             0.2550      0.453      0.563      0.598      -0.910       1.420\n",
      "==============================================================================\n",
      "Omnibus:                        0.561   Durbin-Watson:                   3.268\n",
      "Prob(Omnibus):                  0.755   Jarque-Bera (JB):                0.534\n",
      "Skew:                           0.380   Prob(JB):                        0.766\n",
      "Kurtosis:                       1.987   Cond. No.                         80.1\n",
      "==============================================================================\n",
      "\n",
      "Notes:\n",
      "[1] Standard Errors assume that the covariance matrix of the errors is correctly specified.\n"
     ]
    },
    {
     "name": "stderr",
     "output_type": "stream",
     "text": [
      "C:\\Users\\Usuario\\anaconda3\\lib\\site-packages\\scipy\\stats\\stats.py:1542: UserWarning: kurtosistest only valid for n>=20 ... continuing anyway, n=8\n",
      "  \"anyway, n=%i\" % int(n))\n"
     ]
    }
   ],
   "source": [
    "# Especificamos el modelo\n",
    "model = sm.OLS(y, x)\n",
    "# Ajustamos el modelo\n",
    "results = model.fit()\n",
    "\n",
    "print(results.summary())"
   ]
  },
  {
   "cell_type": "code",
   "execution_count": 30,
   "metadata": {
    "colab": {
     "base_uri": "https://localhost:8080/"
    },
    "executionInfo": {
     "elapsed": 4,
     "status": "ok",
     "timestamp": 1712541681729,
     "user": {
      "displayName": "Victoria Oubina de Castro",
      "userId": "00295192582253170882"
     },
     "user_tz": 180
    },
    "id": "CfKxqednbu5R",
    "outputId": "f9855660-2598-47c9-b7ce-7cb372732a09"
   },
   "outputs": [
    {
     "name": "stdout",
     "output_type": "stream",
     "text": [
      "[5.52257928 0.44706965 0.25502548]\n"
     ]
    }
   ],
   "source": [
    "# Si solo queremos ver los coeficientes\n",
    "print(results.params)"
   ]
  },
  {
   "cell_type": "code",
   "execution_count": 31,
   "metadata": {
    "colab": {
     "base_uri": "https://localhost:8080/"
    },
    "executionInfo": {
     "elapsed": 362,
     "status": "ok",
     "timestamp": 1712541683616,
     "user": {
      "displayName": "Victoria Oubina de Castro",
      "userId": "00295192582253170882"
     },
     "user_tz": 180
    },
    "id": "TlwTX18TU5az",
    "outputId": "358614e0-62fd-4291-b974-7f31e39094a1"
   },
   "outputs": [
    {
     "name": "stdout",
     "output_type": "stream",
     "text": [
      "\\begin{center}\n",
      "\\begin{tabular}{lclc}\n",
      "\\toprule\n",
      "\\textbf{Dep. Variable:}    &        y         & \\textbf{  R-squared:         } &     0.862   \\\\\n",
      "\\textbf{Model:}            &       OLS        & \\textbf{  Adj. R-squared:    } &     0.806   \\\\\n",
      "\\textbf{Method:}           &  Least Squares   & \\textbf{  F-statistic:       } &     15.56   \\\\\n",
      "\\textbf{Date:}             & Wed, 10 Apr 2024 & \\textbf{  Prob (F-statistic):} &  0.00713    \\\\\n",
      "\\textbf{Time:}             &     11:23:50     & \\textbf{  Log-Likelihood:    } &   -24.316   \\\\\n",
      "\\textbf{No. Observations:} &           8      & \\textbf{  AIC:               } &     54.63   \\\\\n",
      "\\textbf{Df Residuals:}     &           5      & \\textbf{  BIC:               } &     54.87   \\\\\n",
      "\\textbf{Df Model:}         &           2      & \\textbf{                     } &             \\\\\n",
      "\\textbf{Covariance Type:}  &    nonrobust     & \\textbf{                     } &             \\\\\n",
      "\\bottomrule\n",
      "\\end{tabular}\n",
      "\\begin{tabular}{lcccccc}\n",
      "               & \\textbf{coef} & \\textbf{std err} & \\textbf{t} & \\textbf{P$> |$t$|$} & \\textbf{[0.025} & \\textbf{0.975]}  \\\\\n",
      "\\midrule\n",
      "\\textbf{const} &       5.5226  &        4.431     &     1.246  &         0.268        &       -5.867    &       16.912     \\\\\n",
      "\\textbf{x1}    &       0.4471  &        0.285     &     1.567  &         0.178        &       -0.286    &        1.180     \\\\\n",
      "\\textbf{x2}    &       0.2550  &        0.453     &     0.563  &         0.598        &       -0.910    &        1.420     \\\\\n",
      "\\bottomrule\n",
      "\\end{tabular}\n",
      "\\begin{tabular}{lclc}\n",
      "\\textbf{Omnibus:}       &  0.561 & \\textbf{  Durbin-Watson:     } &    3.268  \\\\\n",
      "\\textbf{Prob(Omnibus):} &  0.755 & \\textbf{  Jarque-Bera (JB):  } &    0.534  \\\\\n",
      "\\textbf{Skew:}          &  0.380 & \\textbf{  Prob(JB):          } &    0.766  \\\\\n",
      "\\textbf{Kurtosis:}      &  1.987 & \\textbf{  Cond. No.          } &     80.1  \\\\\n",
      "\\bottomrule\n",
      "\\end{tabular}\n",
      "%\\caption{OLS Regression Results}\n",
      "\\end{center}\n",
      "\n",
      "Notes: \\newline\n",
      " [1] Standard Errors assume that the covariance matrix of the errors is correctly specified.\n"
     ]
    },
    {
     "name": "stderr",
     "output_type": "stream",
     "text": [
      "C:\\Users\\Usuario\\anaconda3\\lib\\site-packages\\scipy\\stats\\stats.py:1542: UserWarning: kurtosistest only valid for n>=20 ... continuing anyway, n=8\n",
      "  \"anyway, n=%i\" % int(n))\n"
     ]
    }
   ],
   "source": [
    "# También lo podemos imprimir los resultados para latex\n",
    "print(results.summary().as_latex())"
   ]
  },
  {
   "cell_type": "code",
   "execution_count": 32,
   "metadata": {
    "colab": {
     "base_uri": "https://localhost:8080/"
    },
    "executionInfo": {
     "elapsed": 4,
     "status": "ok",
     "timestamp": 1712541686378,
     "user": {
      "displayName": "Victoria Oubina de Castro",
      "userId": "00295192582253170882"
     },
     "user_tz": 180
    },
    "id": "syztf8sjU5a0",
    "outputId": "0412d100-7565-4869-8d07-a44f5b97ce9d"
   },
   "outputs": [
    {
     "name": "stdout",
     "output_type": "stream",
     "text": [
      "predicted response:\n",
      " [ 5.77760476  8.012953   12.73867497 17.9744479  23.97529728 29.4660957\n",
      " 38.78227633 41.27265006]\n"
     ]
    }
   ],
   "source": [
    "# Se puede obtener la respuesta predicha con los valores de x utilizados en el\n",
    "# entrenamiento del modelo usando .fittedvalues o .predict():\n",
    "\n",
    "print('predicted response:\\n', results.fittedvalues) #equivalente: results.predict(x)"
   ]
  },
  {
   "cell_type": "code",
   "execution_count": 33,
   "metadata": {},
   "outputs": [
    {
     "name": "stdout",
     "output_type": "stream",
     "text": [
      "Coeficiente de determinación: 0.8615939258756777\n",
      "\n",
      "Intercepto: 5.522579275198183\n",
      "\n",
      "Coeficientes: [0.         0.44706965 0.25502548]\n"
     ]
    }
   ],
   "source": [
    "# Con Scikit learn queda igual\n",
    "modelo = LinearRegression().fit(x, y)\n",
    "\n",
    "# Miramos resultados\n",
    "print('Coeficiente de determinación:', modelo.score(x, y))\n",
    "print('\\nIntercepto:', modelo.intercept_)\n",
    "print('\\nCoeficientes:', modelo.coef_)"
   ]
  },
  {
   "cell_type": "markdown",
   "metadata": {
    "id": "vKIbeFqyU5a0"
   },
   "source": [
    "###     ERROR CUADRÁTICO MEDIO\n",
    "\n",
    "Ahora veamos algunas métricas de evaluación usuales para los problemas de regresión en Machine Learning.\n",
    "\n",
    "Vamos a observar los valores de las siguientes métricas:\n",
    "\n",
    "**Error Cuadrático Medio / Mean Squared Error**\n",
    "\n",
    "$MSE = \\frac{1}{n} \\sum_{i=1}^{n} (y_i - \\hat{f}(x_i))^2$\n",
    "\n",
    "**Raíz del Error Cuadrático Medio / Root Mean Squared Error**\n",
    "\n",
    "$RMSE = \\sqrt{MSE}$\n",
    "\n",
    "**Error Absoluto Medio / Mean Absolute Error**\n",
    "\n",
    "$MAE = \\frac{1}{n} \\sum_{i=1}^{n} |y_i - \\hat{f}(x_i)|$\n",
    "\n",
    "Para más información pueden ver el [módulo metrics de Scikitlearn](https://scikit-learn.org/stable/modules/classes.html#module-sklearn.metrics)\n"
   ]
  },
  {
   "cell_type": "code",
   "execution_count": 34,
   "metadata": {
    "colab": {
     "base_uri": "https://localhost:8080/"
    },
    "executionInfo": {
     "elapsed": 294,
     "status": "ok",
     "timestamp": 1712541691348,
     "user": {
      "displayName": "Victoria Oubina de Castro",
      "userId": "00295192582253170882"
     },
     "user_tz": 180
    },
    "id": "ufZ3KGrJU5a0",
    "outputId": "5941b29c-446b-463b-e88a-a7c16998ccf7"
   },
   "outputs": [
    {
     "name": "stdout",
     "output_type": "stream",
     "text": [
      "x:\n",
      " [[0.5488135 ]\n",
      " [0.71518937]\n",
      " [0.60276338]\n",
      " [0.54488318]\n",
      " [0.4236548 ]\n",
      " [0.64589411]\n",
      " [0.43758721]\n",
      " [0.891773  ]\n",
      " [0.96366276]\n",
      " [0.38344152]\n",
      " [0.79172504]\n",
      " [0.52889492]\n",
      " [0.56804456]\n",
      " [0.92559664]\n",
      " [0.07103606]\n",
      " [0.0871293 ]\n",
      " [0.0202184 ]\n",
      " [0.83261985]\n",
      " [0.77815675]\n",
      " [0.87001215]\n",
      " [0.97861834]\n",
      " [0.79915856]\n",
      " [0.46147936]\n",
      " [0.78052918]\n",
      " [0.11827443]\n",
      " [0.63992102]\n",
      " [0.14335329]\n",
      " [0.94466892]\n",
      " [0.52184832]\n",
      " [0.41466194]\n",
      " [0.26455561]\n",
      " [0.77423369]\n",
      " [0.45615033]\n",
      " [0.56843395]\n",
      " [0.0187898 ]\n",
      " [0.6176355 ]\n",
      " [0.61209572]\n",
      " [0.616934  ]\n",
      " [0.94374808]\n",
      " [0.6818203 ]\n",
      " [0.3595079 ]\n",
      " [0.43703195]\n",
      " [0.6976312 ]\n",
      " [0.06022547]\n",
      " [0.66676672]\n",
      " [0.67063787]\n",
      " [0.21038256]\n",
      " [0.1289263 ]\n",
      " [0.31542835]\n",
      " [0.36371077]\n",
      " [0.57019677]\n",
      " [0.43860151]\n",
      " [0.98837384]\n",
      " [0.10204481]\n",
      " [0.20887676]\n",
      " [0.16130952]\n",
      " [0.65310833]\n",
      " [0.2532916 ]\n",
      " [0.46631077]\n",
      " [0.24442559]\n",
      " [0.15896958]\n",
      " [0.11037514]\n",
      " [0.65632959]\n",
      " [0.13818295]\n",
      " [0.19658236]\n",
      " [0.36872517]\n",
      " [0.82099323]\n",
      " [0.09710128]\n",
      " [0.83794491]\n",
      " [0.09609841]\n",
      " [0.97645947]\n",
      " [0.4686512 ]\n",
      " [0.97676109]\n",
      " [0.60484552]\n",
      " [0.73926358]\n",
      " [0.03918779]\n",
      " [0.28280696]\n",
      " [0.12019656]\n",
      " [0.2961402 ]\n",
      " [0.11872772]\n",
      " [0.31798318]\n",
      " [0.41426299]\n",
      " [0.0641475 ]\n",
      " [0.69247212]\n",
      " [0.56660145]\n",
      " [0.26538949]\n",
      " [0.52324805]\n",
      " [0.09394051]\n",
      " [0.5759465 ]\n",
      " [0.9292962 ]\n",
      " [0.31856895]\n",
      " [0.66741038]\n",
      " [0.13179786]\n",
      " [0.7163272 ]\n",
      " [0.28940609]\n",
      " [0.18319136]\n",
      " [0.58651293]\n",
      " [0.02010755]\n",
      " [0.82894003]\n",
      " [0.00469548]]\n",
      "y:\n",
      " [[4.32425705]\n",
      " [4.41557607]\n",
      " [4.54348415]\n",
      " [4.59683809]\n",
      " [3.51971754]\n",
      " [4.51383967]\n",
      " [3.90480357]\n",
      " [5.24757091]\n",
      " [5.11406991]\n",
      " [4.10307357]\n",
      " [4.82230049]\n",
      " [4.43309343]\n",
      " [4.40361296]\n",
      " [5.07422687]\n",
      " [3.02690599]\n",
      " [2.65789364]\n",
      " [2.94175839]\n",
      " [5.07913241]\n",
      " [5.21620561]\n",
      " [5.30256803]\n",
      " [5.66110931]\n",
      " [4.89880007]\n",
      " [4.34052172]\n",
      " [4.98557773]\n",
      " [2.77867833]\n",
      " [4.52615628]\n",
      " [2.44925306]\n",
      " [5.13558157]\n",
      " [4.2257185 ]\n",
      " [3.53406343]\n",
      " [3.41168227]\n",
      " [4.75146977]\n",
      " [3.50392506]\n",
      " [4.00358417]\n",
      " [2.62633431]\n",
      " [4.44377925]\n",
      " [4.41061242]\n",
      " [4.50400281]\n",
      " [5.48334751]\n",
      " [4.47687933]\n",
      " [3.9750703 ]\n",
      " [3.67865773]\n",
      " [4.52875851]\n",
      " [3.07259977]\n",
      " [4.80649414]\n",
      " [4.71580219]\n",
      " [2.73137457]\n",
      " [3.30626151]\n",
      " [3.66052635]\n",
      " [4.08997932]\n",
      " [3.86003862]\n",
      " [4.1839306 ]\n",
      " [5.12761445]\n",
      " [2.921694  ]\n",
      " [2.75045025]\n",
      " [3.33193678]\n",
      " [4.76664394]\n",
      " [3.32897555]\n",
      " [3.80611562]\n",
      " [2.80244377]\n",
      " [3.17433752]\n",
      " [2.78466811]\n",
      " [4.69104437]\n",
      " [3.28093118]\n",
      " [3.56526859]\n",
      " [3.96197885]\n",
      " [4.47469377]\n",
      " [2.65128189]\n",
      " [5.24382528]\n",
      " [2.4599249 ]\n",
      " [5.450415  ]\n",
      " [3.46029159]\n",
      " [5.13027979]\n",
      " [3.83305835]\n",
      " [5.01148844]\n",
      " [2.34148806]\n",
      " [3.19377257]\n",
      " [3.28867098]\n",
      " [3.59283499]\n",
      " [2.38802209]\n",
      " [3.11864369]\n",
      " [3.86426739]\n",
      " [2.76967108]\n",
      " [4.31530918]\n",
      " [4.63401836]\n",
      " [3.41013443]\n",
      " [4.10537696]\n",
      " [2.87173151]\n",
      " [4.45796152]\n",
      " [5.09983359]\n",
      " [3.35392792]\n",
      " [4.21207489]\n",
      " [2.58158659]\n",
      " [5.093354  ]\n",
      " [3.60776907]\n",
      " [3.04003289]\n",
      " [3.98695343]\n",
      " [2.31467912]\n",
      " [4.54484925]\n",
      " [2.44850305]]\n"
     ]
    }
   ],
   "source": [
    "# Generamos un dataset aleatorio\n",
    "np.random.seed(0)\n",
    "x = np.random.rand(100, 1)  # Array de la forma (100, 1) con nros aleatorios entre [0, 1) de una distribución uniforme\n",
    "y = 2 + 3*x + np.random.rand(100, 1)\n",
    "print(\"x:\\n\", x)\n",
    "print(\"y:\\n\", y)"
   ]
  },
  {
   "cell_type": "code",
   "execution_count": 35,
   "metadata": {
    "colab": {
     "base_uri": "https://localhost:8080/",
     "height": 449
    },
    "executionInfo": {
     "elapsed": 329,
     "status": "ok",
     "timestamp": 1712541695731,
     "user": {
      "displayName": "Victoria Oubina de Castro",
      "userId": "00295192582253170882"
     },
     "user_tz": 180
    },
    "id": "8eL-lNIxU5a0",
    "outputId": "e034ab05-1635-4c5b-d788-ab477c5c0627"
   },
   "outputs": [
    {
     "data": {
      "image/png": "[encoded data removed]",
      "text/plain": [
       "<Figure size 640x480 with 1 Axes>"
      ]
     },
     "metadata": {},
     "output_type": "display_data"
    }
   ],
   "source": [
    "# Graficamos\n",
    "plt.scatter(x, y, s=10)  # s indica el tamaño de los puntos del scatter.\n",
    "plt.xlabel('x')\n",
    "plt.ylabel('y')\n",
    "plt.show()"
   ]
  },
  {
   "cell_type": "code",
   "execution_count": 36,
   "metadata": {
    "colab": {
     "base_uri": "https://localhost:8080/"
    },
    "executionInfo": {
     "elapsed": 2,
     "status": "ok",
     "timestamp": 1712541696705,
     "user": {
      "displayName": "Victoria Oubina de Castro",
      "userId": "00295192582253170882"
     },
     "user_tz": 180
    },
    "id": "6YEa6Xe8U5a0",
    "outputId": "96444a88-c5df-4125-84a5-94926f90aa0b"
   },
   "outputs": [
    {
     "name": "stdout",
     "output_type": "stream",
     "text": [
      "                            OLS Regression Results                            \n",
      "==============================================================================\n",
      "Dep. Variable:                      y   R-squared:                       0.904\n",
      "Model:                            OLS   Adj. R-squared:                  0.903\n",
      "Method:                 Least Squares   F-statistic:                     921.4\n",
      "Date:                Wed, 10 Apr 2024   Prob (F-statistic):           1.22e-51\n",
      "Time:                        11:31:25   Log-Likelihood:                -13.196\n",
      "No. Observations:                 100   AIC:                             30.39\n",
      "Df Residuals:                      98   BIC:                             35.60\n",
      "Df Model:                           1                                         \n",
      "Covariance Type:            nonrobust                                         \n",
      "==============================================================================\n",
      "                 coef    std err          t      P>|t|      [0.025      0.975]\n",
      "------------------------------------------------------------------------------\n",
      "const          2.5581      0.054     47.751      0.000       2.452       2.664\n",
      "x1             2.9366      0.097     30.355      0.000       2.745       3.129\n",
      "==============================================================================\n",
      "Omnibus:                       19.276   Durbin-Watson:                   2.031\n",
      "Prob(Omnibus):                  0.000   Jarque-Bera (JB):                5.354\n",
      "Skew:                          -0.191   Prob(JB):                       0.0688\n",
      "Kurtosis:                       1.933   Cond. No.                         4.30\n",
      "==============================================================================\n",
      "\n",
      "Notes:\n",
      "[1] Standard Errors assume that the covariance matrix of the errors is correctly specified.\n"
     ]
    }
   ],
   "source": [
    "x = sm.add_constant(x)\n",
    "model = sm.OLS(y, x)\n",
    "results = model.fit()\n",
    "print(results.summary())"
   ]
  },
  {
   "cell_type": "code",
   "execution_count": 37,
   "metadata": {
    "colab": {
     "base_uri": "https://localhost:8080/"
    },
    "executionInfo": {
     "elapsed": 3,
     "status": "ok",
     "timestamp": 1712541698705,
     "user": {
      "displayName": "Victoria Oubina de Castro",
      "userId": "00295192582253170882"
     },
     "user_tz": 180
    },
    "id": "xx_b83peU5a0",
    "outputId": "c7c225a1-b208-418c-a2f2-029766773690"
   },
   "outputs": [
    {
     "data": {
      "text/plain": [
       "array([4.1696989 , 4.65827012, 4.32812546, 4.15815731, 3.80216397,\n",
       "       4.45478107, 3.84307721, 5.17681698, 5.38792493, 3.68407562,\n",
       "       4.88302102, 4.11120696, 4.22617188, 5.27614181, 2.76668104,\n",
       "       2.81393966, 2.61745238, 5.00311071, 4.84317706, 5.11291512,\n",
       "       5.43184275, 4.90484995, 3.91323773, 4.8501438 , 2.90539891,\n",
       "       4.43724078, 2.97904427, 5.33214853, 4.09051427, 3.77575598,\n",
       "       3.33496109, 4.83165679, 3.89758877, 4.22731534, 2.61325723,\n",
       "       4.3717982 , 4.35553037, 4.36973821, 5.32944444, 4.56028015,\n",
       "       3.61379333, 3.84144667, 4.60670965, 2.7349352 , 4.51607453,\n",
       "       4.52744237, 3.17587916, 2.93667868, 3.48435148, 3.62613527,\n",
       "       4.23249195, 3.84605576, 5.46049027, 2.85773982, 3.17145728,\n",
       "       3.03177366, 4.47596597, 3.30188375, 3.92742542, 3.27584826,\n",
       "       3.02490232, 2.88220226, 4.48542538, 2.96386132, 3.13535417,\n",
       "       3.64086031, 4.96896856, 2.84322288, 5.01874803, 2.84027791,\n",
       "       5.4255031 , 3.93429821, 5.42638883, 4.33423978, 4.72896527,\n",
       "       2.67315698, 3.38855711, 2.91104336, 3.42771084, 2.90673003,\n",
       "       3.49185387, 3.77458446, 2.74645242, 4.59155976, 4.22193413,\n",
       "       3.33740982, 4.09462465, 2.83394113, 4.24937632, 5.28700576,\n",
       "       3.49357402, 4.51796468, 2.94511118, 4.66161143, 3.40793579,\n",
       "       3.09603081, 4.2804052 , 2.61712686, 4.99230475, 2.57186853])"
      ]
     },
     "execution_count": 37,
     "metadata": {},
     "output_type": "execute_result"
    }
   ],
   "source": [
    "# Predecimos las y\n",
    "y_pred = results.predict(x)\n",
    "y_pred"
   ]
  },
  {
   "cell_type": "code",
   "execution_count": 38,
   "metadata": {
    "colab": {
     "base_uri": "https://localhost:8080/"
    },
    "executionInfo": {
     "elapsed": 269,
     "status": "ok",
     "timestamp": 1712541701373,
     "user": {
      "displayName": "Victoria Oubina de Castro",
      "userId": "00295192582253170882"
     },
     "user_tz": 180
    },
    "id": "_uhAVh5Ubu5Y",
    "outputId": "55fa40a0-db20-4387-fcce-db07beaf14db"
   },
   "outputs": [
    {
     "name": "stdout",
     "output_type": "stream",
     "text": [
      "0.07623324582875007\n",
      "1.5097383028596263\n"
     ]
    }
   ],
   "source": [
    "# Vemos el MSE\n",
    "\n",
    "# Usando MSE de scikit-learn\n",
    "mse1 = mean_squared_error(y, y_pred)\n",
    "print(mse1)\n",
    "\n",
    "# Usando Numpy\n",
    "mse2 = np.square(np.subtract(y, y_pred)).mean()\n",
    "print(mse2)\n",
    "# Cuidado! Nos dio distinto porque las funciones de Numpy no trabajan igual con arrays.\n",
    "# Veamos cómo solucionar esto"
   ]
  },
  {
   "cell_type": "code",
   "execution_count": 39,
   "metadata": {
    "colab": {
     "base_uri": "https://localhost:8080/"
    },
    "executionInfo": {
     "elapsed": 302,
     "status": "ok",
     "timestamp": 1712541707041,
     "user": {
      "displayName": "Victoria Oubina de Castro",
      "userId": "00295192582253170882"
     },
     "user_tz": 180
    },
    "id": "UMhU6ugIbu5Y",
    "outputId": "1fe9ab22-a16c-4011-d67c-d285ad3f4f4d"
   },
   "outputs": [
    {
     "name": "stdout",
     "output_type": "stream",
     "text": [
      "(100, 1) (100,)\n",
      "y flat: [4.32425705 4.41557607 4.54348415 4.59683809 3.51971754 4.51383967\n",
      " 3.90480357 5.24757091 5.11406991 4.10307357 4.82230049 4.43309343\n",
      " 4.40361296 5.07422687 3.02690599 2.65789364 2.94175839 5.07913241\n",
      " 5.21620561 5.30256803 5.66110931 4.89880007 4.34052172 4.98557773\n",
      " 2.77867833 4.52615628 2.44925306 5.13558157 4.2257185  3.53406343\n",
      " 3.41168227 4.75146977 3.50392506 4.00358417 2.62633431 4.44377925\n",
      " 4.41061242 4.50400281 5.48334751 4.47687933 3.9750703  3.67865773\n",
      " 4.52875851 3.07259977 4.80649414 4.71580219 2.73137457 3.30626151\n",
      " 3.66052635 4.08997932 3.86003862 4.1839306  5.12761445 2.921694\n",
      " 2.75045025 3.33193678 4.76664394 3.32897555 3.80611562 2.80244377\n",
      " 3.17433752 2.78466811 4.69104437 3.28093118 3.56526859 3.96197885\n",
      " 4.47469377 2.65128189 5.24382528 2.4599249  5.450415   3.46029159\n",
      " 5.13027979 3.83305835 5.01148844 2.34148806 3.19377257 3.28867098\n",
      " 3.59283499 2.38802209 3.11864369 3.86426739 2.76967108 4.31530918\n",
      " 4.63401836 3.41013443 4.10537696 2.87173151 4.45796152 5.09983359\n",
      " 3.35392792 4.21207489 2.58158659 5.093354   3.60776907 3.04003289\n",
      " 3.98695343 2.31467912 4.54484925 2.44850305]\n",
      "y: [[4.32425705]\n",
      " [4.41557607]\n",
      " [4.54348415]\n",
      " [4.59683809]\n",
      " [3.51971754]\n",
      " [4.51383967]\n",
      " [3.90480357]\n",
      " [5.24757091]\n",
      " [5.11406991]\n",
      " [4.10307357]\n",
      " [4.82230049]\n",
      " [4.43309343]\n",
      " [4.40361296]\n",
      " [5.07422687]\n",
      " [3.02690599]\n",
      " [2.65789364]\n",
      " [2.94175839]\n",
      " [5.07913241]\n",
      " [5.21620561]\n",
      " [5.30256803]\n",
      " [5.66110931]\n",
      " [4.89880007]\n",
      " [4.34052172]\n",
      " [4.98557773]\n",
      " [2.77867833]\n",
      " [4.52615628]\n",
      " [2.44925306]\n",
      " [5.13558157]\n",
      " [4.2257185 ]\n",
      " [3.53406343]\n",
      " [3.41168227]\n",
      " [4.75146977]\n",
      " [3.50392506]\n",
      " [4.00358417]\n",
      " [2.62633431]\n",
      " [4.44377925]\n",
      " [4.41061242]\n",
      " [4.50400281]\n",
      " [5.48334751]\n",
      " [4.47687933]\n",
      " [3.9750703 ]\n",
      " [3.67865773]\n",
      " [4.52875851]\n",
      " [3.07259977]\n",
      " [4.80649414]\n",
      " [4.71580219]\n",
      " [2.73137457]\n",
      " [3.30626151]\n",
      " [3.66052635]\n",
      " [4.08997932]\n",
      " [3.86003862]\n",
      " [4.1839306 ]\n",
      " [5.12761445]\n",
      " [2.921694  ]\n",
      " [2.75045025]\n",
      " [3.33193678]\n",
      " [4.76664394]\n",
      " [3.32897555]\n",
      " [3.80611562]\n",
      " [2.80244377]\n",
      " [3.17433752]\n",
      " [2.78466811]\n",
      " [4.69104437]\n",
      " [3.28093118]\n",
      " [3.56526859]\n",
      " [3.96197885]\n",
      " [4.47469377]\n",
      " [2.65128189]\n",
      " [5.24382528]\n",
      " [2.4599249 ]\n",
      " [5.450415  ]\n",
      " [3.46029159]\n",
      " [5.13027979]\n",
      " [3.83305835]\n",
      " [5.01148844]\n",
      " [2.34148806]\n",
      " [3.19377257]\n",
      " [3.28867098]\n",
      " [3.59283499]\n",
      " [2.38802209]\n",
      " [3.11864369]\n",
      " [3.86426739]\n",
      " [2.76967108]\n",
      " [4.31530918]\n",
      " [4.63401836]\n",
      " [3.41013443]\n",
      " [4.10537696]\n",
      " [2.87173151]\n",
      " [4.45796152]\n",
      " [5.09983359]\n",
      " [3.35392792]\n",
      " [4.21207489]\n",
      " [2.58158659]\n",
      " [5.093354  ]\n",
      " [3.60776907]\n",
      " [3.04003289]\n",
      " [3.98695343]\n",
      " [2.31467912]\n",
      " [4.54484925]\n",
      " [2.44850305]]\n"
     ]
    }
   ],
   "source": [
    "y_flat = y.flatten()   # Modificamos la forma de y\n",
    "print(y.shape, y_flat.shape)\n",
    "print(\"y flat:\", y_flat)\n",
    "print(\"y:\",  y)"
   ]
  },
  {
   "cell_type": "code",
   "execution_count": 40,
   "metadata": {
    "colab": {
     "base_uri": "https://localhost:8080/"
    },
    "executionInfo": {
     "elapsed": 262,
     "status": "ok",
     "timestamp": 1712541709943,
     "user": {
      "displayName": "Victoria Oubina de Castro",
      "userId": "00295192582253170882"
     },
     "user_tz": 180
    },
    "id": "hvuSKzAjbu5Z",
    "outputId": "dc0b83e1-0502-463f-b968-1cdde9446dc5"
   },
   "outputs": [
    {
     "name": "stdout",
     "output_type": "stream",
     "text": [
      "0.07623324582875007\n",
      "0.07623324582875007\n"
     ]
    }
   ],
   "source": [
    "# Volvamos a probar\n",
    "# Usando MSE de scikit-learn\n",
    "mse1 = mean_squared_error(y_flat, y_pred)\n",
    "print(mse1)\n",
    "\n",
    "# Usando Numpy\n",
    "mse2 = np.square(np.subtract(y_flat, y_pred)).mean()\n",
    "print(mse2)\n",
    "# Ahora sí obtenemos el mismo resultado"
   ]
  },
  {
   "cell_type": "code",
   "execution_count": 45,
   "metadata": {
    "colab": {
     "base_uri": "https://localhost:8080/"
    },
    "executionInfo": {
     "elapsed": 270,
     "status": "ok",
     "timestamp": 1712541711988,
     "user": {
      "displayName": "Victoria Oubina de Castro",
      "userId": "00295192582253170882"
     },
     "user_tz": 180
    },
    "id": "bTb8Tb6Bbu5Z",
    "outputId": "0bfec760-e2d3-40da-ec4f-2a72bc005f39"
   },
   "outputs": [
    {
     "name": "stdout",
     "output_type": "stream",
     "text": [
      "0.2761036867351649\n",
      "0.23709498511190275\n"
     ]
    }
   ],
   "source": [
    "# También podemos ver el RMSE y el MAE\n",
    "rmse = np.sqrt(mean_squared_error(y, y_pred))\n",
    "print(rmse)\n",
    "mae = mean_absolute_error(y, y_pred)\n",
    "print(mae)"
   ]
  },
  {
   "cell_type": "code",
   "execution_count": null,
   "metadata": {
    "id": "21IldDiFbu5a"
   },
   "outputs": [],
   "source": []
  }
 ],
 "metadata": {
  "colab": {
   "provenance": []
  },
  "kernelspec": {
   "display_name": "Python 3 (ipykernel)",
   "language": "python",
   "name": "python3"
  },
  "language_info": {
   "codemirror_mode": {
    "name": "ipython",
    "version": 3
   },
   "file_extension": ".py",
   "mimetype": "text/x-python",
   "name": "python",
   "nbconvert_exporter": "python",
   "pygments_lexer": "ipython3",
   "version": "3.12.2"
  },
  "varInspector": {
   "cols": {
    "lenName": 16,
    "lenType": 16,
    "lenVar": 40
   },
   "kernels_config": {
    "python": {
     "delete_cmd_postfix": "",
     "delete_cmd_prefix": "del ",
     "library": "var_list.py",
     "varRefreshCmd": "print(var_dic_list())"
    },
    "r": {
     "delete_cmd_postfix": ") ",
     "delete_cmd_prefix": "rm(",
     "library": "var_list.r",
     "varRefreshCmd": "cat(var_dic_list()) "
    }
   },
   "types_to_exclude": [
    "module",
    "function",
    "builtin_function_or_method",
    "instance",
    "_Feature"
   ],
   "window_display": false
  }
 },
 "nbformat": 4,
 "nbformat_minor": 1
}
